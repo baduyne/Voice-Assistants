{
 "cells": [
  {
   "cell_type": "code",
   "execution_count": 1,
   "id": "5deafa8b",
   "metadata": {},
   "outputs": [
    {
     "data": {
      "application/vnd.jupyter.widget-view+json": {
       "model_id": "4963f14c862b41c8ab5b6a699ca8f44b",
       "version_major": 2,
       "version_minor": 0
      },
      "text/plain": [
       "config.json: 0.00B [00:00, ?B/s]"
      ]
     },
     "metadata": {},
     "output_type": "display_data"
    },
    {
     "data": {
      "application/vnd.jupyter.widget-view+json": {
       "model_id": "14e989b008d04b9990b4b6ac6ac4647d",
       "version_major": 2,
       "version_minor": 0
      },
      "text/plain": [
       "model.safetensors:   0%|          | 0.00/290M [00:00<?, ?B/s]"
      ]
     },
     "metadata": {},
     "output_type": "display_data"
    },
    {
     "data": {
      "application/vnd.jupyter.widget-view+json": {
       "model_id": "f51c48f2a15e49c4a8c0c75bc7541a3f",
       "version_major": 2,
       "version_minor": 0
      },
      "text/plain": [
       "generation_config.json: 0.00B [00:00, ?B/s]"
      ]
     },
     "metadata": {},
     "output_type": "display_data"
    },
    {
     "data": {
      "application/vnd.jupyter.widget-view+json": {
       "model_id": "5662a27741704327b3824f7ef251e0e7",
       "version_major": 2,
       "version_minor": 0
      },
      "text/plain": [
       "preprocessor_config.json:   0%|          | 0.00/339 [00:00<?, ?B/s]"
      ]
     },
     "metadata": {},
     "output_type": "display_data"
    },
    {
     "data": {
      "application/vnd.jupyter.widget-view+json": {
       "model_id": "7c756a2571ba420697df8795f188460d",
       "version_major": 2,
       "version_minor": 0
      },
      "text/plain": [
       "tokenizer_config.json:   0%|          | 0.00/804 [00:00<?, ?B/s]"
      ]
     },
     "metadata": {},
     "output_type": "display_data"
    },
    {
     "data": {
      "application/vnd.jupyter.widget-view+json": {
       "model_id": "fd96d5456bc04eb0ab2ac1d742de5a28",
       "version_major": 2,
       "version_minor": 0
      },
      "text/plain": [
       "vocab.json: 0.00B [00:00, ?B/s]"
      ]
     },
     "metadata": {},
     "output_type": "display_data"
    },
    {
     "data": {
      "application/vnd.jupyter.widget-view+json": {
       "model_id": "5860167703154c53a3251dde98344e45",
       "version_major": 2,
       "version_minor": 0
      },
      "text/plain": [
       "merges.txt: 0.00B [00:00, ?B/s]"
      ]
     },
     "metadata": {},
     "output_type": "display_data"
    },
    {
     "data": {
      "application/vnd.jupyter.widget-view+json": {
       "model_id": "24e4148e122d4e5dad6d7ea7964bfae3",
       "version_major": 2,
       "version_minor": 0
      },
      "text/plain": [
       "normalizer.json: 0.00B [00:00, ?B/s]"
      ]
     },
     "metadata": {},
     "output_type": "display_data"
    },
    {
     "data": {
      "application/vnd.jupyter.widget-view+json": {
       "model_id": "e8d1f3e1357f42c2a5eebdf5541a6245",
       "version_major": 2,
       "version_minor": 0
      },
      "text/plain": [
       "added_tokens.json: 0.00B [00:00, ?B/s]"
      ]
     },
     "metadata": {},
     "output_type": "display_data"
    },
    {
     "data": {
      "application/vnd.jupyter.widget-view+json": {
       "model_id": "3b3da3bcd44646989483e6ae5382dbd5",
       "version_major": 2,
       "version_minor": 0
      },
      "text/plain": [
       "special_tokens_map.json: 0.00B [00:00, ?B/s]"
      ]
     },
     "metadata": {},
     "output_type": "display_data"
    },
    {
     "ename": "NameError",
     "evalue": "name 'librosa' is not defined",
     "output_type": "error",
     "traceback": [
      "\u001b[31m---------------------------------------------------------------------------\u001b[39m",
      "\u001b[31mNameError\u001b[39m                                 Traceback (most recent call last)",
      "\u001b[36mCell\u001b[39m\u001b[36m \u001b[39m\u001b[32mIn[1]\u001b[39m\u001b[32m, line 8\u001b[39m\n\u001b[32m      4\u001b[39m processor = WhisperProcessor.from_pretrained(\u001b[33m\"\u001b[39m\u001b[33mhkab/whisper-base-vietnamese-finetuned\u001b[39m\u001b[33m\"\u001b[39m)\n\u001b[32m      6\u001b[39m forced_decoder_ids = processor.get_decoder_prompt_ids(language=\u001b[33m\"\u001b[39m\u001b[33mvi\u001b[39m\u001b[33m\"\u001b[39m, task=\u001b[33m\"\u001b[39m\u001b[33mtranscribe\u001b[39m\u001b[33m\"\u001b[39m)\n\u001b[32m----> \u001b[39m\u001b[32m8\u001b[39m input_speech, rate = \u001b[43mlibrosa\u001b[49m.load(\u001b[33m'\u001b[39m\u001b[33m/path/to/audio.wav\u001b[39m\u001b[33m'\u001b[39m, sr=\u001b[32m16000\u001b[39m)\n\u001b[32m      9\u001b[39m input_features = processor(input_speech, sampling_rate=rate, return_tensors=\u001b[33m\"\u001b[39m\u001b[33mpt\u001b[39m\u001b[33m\"\u001b[39m).input_features\n\u001b[32m     11\u001b[39m predicted_ids = model_trained.generate(input_features, forced_decoder_ids=forced_decoder_ids)\n",
      "\u001b[31mNameError\u001b[39m: name 'librosa' is not defined"
     ]
    }
   ],
   "source": [
    "from transformers import WhisperProcessor, WhisperForConditionalGeneration\n",
    "\n",
    "model_trained = WhisperForConditionalGeneration.from_pretrained('hkab/whisper-base-vietnamese-finetuned')\n",
    "processor = WhisperProcessor.from_pretrained(\"hkab/whisper-base-vietnamese-finetuned\")\n",
    "\n",
    "model_trained"
   ]
  },
  {
   "cell_type": "code",
   "execution_count": 3,
   "id": "30148a61",
   "metadata": {},
   "outputs": [
    {
     "ename": "NameError",
     "evalue": "name 'librosa' is not defined",
     "output_type": "error",
     "traceback": [
      "\u001b[31m---------------------------------------------------------------------------\u001b[39m",
      "\u001b[31mNameError\u001b[39m                                 Traceback (most recent call last)",
      "\u001b[36mCell\u001b[39m\u001b[36m \u001b[39m\u001b[32mIn[3]\u001b[39m\u001b[32m, line 1\u001b[39m\n\u001b[32m----> \u001b[39m\u001b[32m1\u001b[39m input_speech, rate = \u001b[43mlibrosa\u001b[49m.load(\u001b[33m'\u001b[39m\u001b[33ma.mo3\u001b[39m\u001b[33m'\u001b[39m, sr=\u001b[32m16000\u001b[39m)\n\u001b[32m      2\u001b[39m input_features = processor(input_speech, sampling_rate=rate, return_tensors=\u001b[33m\"\u001b[39m\u001b[33mpt\u001b[39m\u001b[33m\"\u001b[39m).input_features\n\u001b[32m      4\u001b[39m predicted_ids = model_trained.generate(input_features, forced_decoder_ids=forced_decoder_ids)\n",
      "\u001b[31mNameError\u001b[39m: name 'librosa' is not defined"
     ]
    }
   ],
   "source": [
    "input_speech, rate = librosa.load('a.mo3', sr=16000)\n",
    "input_features = processor(input_speech, sampling_rate=rate, return_tensors=\"pt\").input_features\n",
    "\n",
    "predicted_ids = model_trained.generate(input_features, forced_decoder_ids=forced_decoder_ids)\n",
    "\n",
    "print(f'Prediction: {processor.batch_decode(predicted_ids, skip_special_tokens=True)}')"
   ]
  }
 ],
 "metadata": {
  "kernelspec": {
   "display_name": "duy",
   "language": "python",
   "name": "python3"
  },
  "language_info": {
   "codemirror_mode": {
    "name": "ipython",
    "version": 3
   },
   "file_extension": ".py",
   "mimetype": "text/x-python",
   "name": "python",
   "nbconvert_exporter": "python",
   "pygments_lexer": "ipython3",
   "version": "3.11.13"
  }
 },
 "nbformat": 4,
 "nbformat_minor": 5
}
