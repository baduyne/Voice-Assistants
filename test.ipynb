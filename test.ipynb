{
 "cells": [
  {
   "cell_type": "code",
   "execution_count": null,
   "id": "147a763c",
   "metadata": {},
   "outputs": [],
   "source": [
    "from TTS.api import TTS\n",
    "\n",
    "# Model nhỏ gọn tiếng Việt\n",
    "tts = TTS(model_name=\"tts_models/vi/vits\", progress_bar=False, gpu=True)\n",
    "tts.tts_to_file(text=\"Xin chào, tôi là trợ lý ảo của bạn.\", file_path=\"output.wav\")\n"
   ]
  }
 ],
 "metadata": {
  "language_info": {
   "name": "python"
  }
 },
 "nbformat": 4,
 "nbformat_minor": 5
}
